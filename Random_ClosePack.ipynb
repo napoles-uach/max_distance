{
  "nbformat": 4,
  "nbformat_minor": 0,
  "metadata": {
    "colab": {
      "provenance": [],
      "authorship_tag": "ABX9TyNCpW5J6vo2jmR4nku/j4rg",
      "include_colab_link": true
    },
    "kernelspec": {
      "name": "python3",
      "display_name": "Python 3"
    },
    "language_info": {
      "name": "python"
    }
  },
  "cells": [
    {
      "cell_type": "markdown",
      "metadata": {
        "id": "view-in-github",
        "colab_type": "text"
      },
      "source": [
        "<a href=\"https://colab.research.google.com/github/napoles-uach/max_distance/blob/main/Random_ClosePack.ipynb\" target=\"_parent\"><img src=\"https://colab.research.google.com/assets/colab-badge.svg\" alt=\"Open In Colab\"/></a>"
      ]
    },
    {
      "cell_type": "code",
      "execution_count": null,
      "metadata": {
        "id": "oMVPJSQIiEPm"
      },
      "outputs": [],
      "source": [
        "!git clone https://github.com/napoles-uach/max_distance.git"
      ]
    },
    {
      "cell_type": "code",
      "source": [
        "%cd max_distance/"
      ],
      "metadata": {
        "colab": {
          "base_uri": "https://localhost:8080/"
        },
        "id": "Uax7IHLDipKJ",
        "outputId": "0329a6e1-6886-4867-ce50-ea26cce6c09a"
      },
      "execution_count": 2,
      "outputs": [
        {
          "output_type": "stream",
          "name": "stdout",
          "text": [
            "/content/max_distance\n"
          ]
        }
      ]
    },
    {
      "cell_type": "code",
      "source": [
        "!pip -q install py3Dmol\n",
        "import py3Dmol"
      ],
      "metadata": {
        "id": "u3p4PG2n29z2"
      },
      "execution_count": 3,
      "outputs": []
    },
    {
      "cell_type": "code",
      "source": [
        "from utils.molecule_functions import Molecule,read_sdf_from_string,read_sdf_from_file,apply_rotation,calculate_contact\n"
      ],
      "metadata": {
        "id": "G3yVaMBWivfz"
      },
      "execution_count": 4,
      "outputs": []
    },
    {
      "cell_type": "code",
      "source": [
        "molecule_data = read_sdf_from_file(\"Conformer3D_COMPOUND_CID_4733.sdf\")\n",
        "molecule = Molecule(\n",
        "    coordinates=[data[:3] for data in molecule_data],\n",
        "    symbols=[data[3] for data in molecule_data],\n",
        "    atom_radii={'C': 1.7, 'H': 1.2, 'O': 1.52, 'N': 1.55, 'S': 1.8}\n",
        ")\n"
      ],
      "metadata": {
        "id": "zQplVyKYj6BY"
      },
      "execution_count": 6,
      "outputs": []
    },
    {
      "cell_type": "code",
      "source": [
        "import numpy as np\n",
        "from utils.molecule_functions import Molecule, apply_rotation, calculate_contact\n",
        "\n",
        "a = np.array([1, 0, 0])\n",
        "b = np.array([0, 1, 0])\n",
        "c = np.array([0, 0, 1])\n",
        "vectors = [a,b,c,b-c,b-a,c-a,a+b,a+c,b+c,a+b+c,a+c-b,a+b-c,b+c-a]\n",
        "\n",
        "# Set up parameters for the random exploration\n",
        "num_iterations = 2000  # Number of random samples to try\n",
        "np.random.seed(42)  # Seed for reproducibility\n",
        "lista=[]\n",
        "distancias=[]\n",
        "a_=[]\n",
        "for __ in range(num_iterations):\n",
        "    ang_x, ang_y, ang_z = np.random.randint(0, 360, size=3)\n",
        "    rotated_molecule = apply_rotation(molecule, (ang_x, ang_y, ang_z))\n",
        "    global_max_displacement = 0\n",
        "    parametro_red=[]\n",
        "    _=[]\n",
        "    _a_=[]\n",
        "    i=0\n",
        "    for latt_vec in vectors:\n",
        "      max_displacement = calculate_contact(rotated_molecule, latt_vec)\n",
        "      #print(i,max_displacement)\n",
        "      if i<3:\n",
        "        a=max_displacement\n",
        "      elif i<9:\n",
        "        a=1/np.sqrt(2)*max_displacement\n",
        "      else:\n",
        "        a=1/np.sqrt(3)*max_displacement\n",
        "      parametro_red.append(a)\n",
        "                #print(i,max_displacement,a)\n",
        "      _.append([i,max_displacement])\n",
        "      _a_.append([i,a])\n",
        "      i+=1\n",
        "\n",
        "    parametro_a=max(parametro_red)\n",
        "    lista.append([ang_x,ang_y,ang_z,parametro_a])\n",
        "    distancias.append(_)\n",
        "    a_.append(_a_)"
      ],
      "metadata": {
        "id": "CZW5LO7JwCeq"
      },
      "execution_count": 7,
      "outputs": []
    },
    {
      "cell_type": "code",
      "source": [
        "min_indice = min((sublista[3], i) for i, sublista in enumerate(lista))"
      ],
      "metadata": {
        "id": "pSb9yZYBYHSb"
      },
      "execution_count": 8,
      "outputs": []
    },
    {
      "cell_type": "code",
      "source": [
        "lista[min_indice[1]]"
      ],
      "metadata": {
        "id": "y4D7YWbH0kwI"
      },
      "execution_count": null,
      "outputs": []
    },
    {
      "cell_type": "code",
      "source": [
        "def generate_xyz_data(molecule):\n",
        "    xyz_data = \"\"\n",
        "    for i in range(len(molecule.coordinates)):\n",
        "        x, y, z = molecule.coordinates[i]\n",
        "        atom_type = molecule.symbols[i]\n",
        "        xyz_data += f\"{atom_type} {x:.3f} {y:.3f} {z:.3f}\\n\"\n",
        "    return str(len(molecule.coordinates)) + \"\\n\\n\" + xyz_data"
      ],
      "metadata": {
        "id": "kr7M87En5kmc"
      },
      "execution_count": 10,
      "outputs": []
    },
    {
      "cell_type": "code",
      "source": [
        "ang_x=lista[min_indice[1]][0]\n",
        "ang_y=lista[min_indice[1]][1]\n",
        "ang_z=lista[min_indice[1]][2]\n",
        "rotated_molecule = apply_rotation(molecule, (ang_x, ang_y, ang_z))"
      ],
      "metadata": {
        "id": "krfD3Dbcam8M"
      },
      "execution_count": 11,
      "outputs": []
    },
    {
      "cell_type": "code",
      "source": [
        "direction_vector = lista[min_indice[1]][3]*vectors[12]\n",
        "#max_displacement = calculate_contact(rotated_molecule, direction_vector)\n",
        "displacement_vector = direction_vector#/np.linalg.norm(direction_vector)\n",
        "#rotated_molecule = apply_rotation(molecule, (min_angles[0], min_angles[1],min_angles[2]))\n",
        "transformed_coords = rotated_molecule.coordinates + displacement_vector\n",
        "transformed_molecule = Molecule(transformed_coords, rotated_molecule.symbols, rotated_molecule.atom_radii)\n",
        "\n",
        "original_xyz = generate_xyz_data(rotated_molecule)\n",
        "transformed_xyz_a = generate_xyz_data(transformed_molecule)\n",
        "\n",
        "xyzview = py3Dmol.view(width=800, height=400)\n",
        "xyzview.addModel(original_xyz, 'xyz')\n",
        "xyzview.addModel(transformed_xyz_a, 'xyz')\n",
        "#xyzview.addModel(transformed_xyz_b, 'xyz')\n",
        "#xyzview.addModel(transformed_xyz_c, 'xyz')\n",
        "xyzview.setStyle({'sphere': {}})\n",
        "xyzview.setBackgroundColor('white')\n",
        "xyzview.zoomTo()\n",
        "xyzview.show()\n"
      ],
      "metadata": {
        "id": "q4b0uL2_1JJF"
      },
      "execution_count": null,
      "outputs": []
    },
    {
      "cell_type": "code",
      "source": [
        "lista_ordenada = sorted(lista, key=lambda x: x[3])\n",
        "lista_ordenada[:30]"
      ],
      "metadata": {
        "id": "C-9BGH1VanVE"
      },
      "execution_count": null,
      "outputs": []
    },
    {
      "cell_type": "code",
      "source": [
        "contador = 1\n",
        "for ang in lista_ordenada:\n",
        "   a_x,a_y,a_z, dist_i = ang\n",
        "   rota = apply_rotation(molecule, (a_x, a_y, a_z))\n",
        "   coords_xyz = generate_xyz_data(rota)\n",
        "   nombre_archivo = f\"{dist_i}.xyz\"\n",
        "   with open(nombre_archivo, 'w') as file:\n",
        "    file.write(f\"{coords_xyz}\\n\")\n",
        "   contador+=1"
      ],
      "metadata": {
        "id": "bLuwtE3XiRyy"
      },
      "execution_count": 14,
      "outputs": []
    },
    {
      "cell_type": "code",
      "source": [
        "!mkdir moleculas"
      ],
      "metadata": {
        "id": "a3qjynCbmoot"
      },
      "execution_count": 15,
      "outputs": []
    },
    {
      "cell_type": "code",
      "source": [
        "! mv *.xyz moleculas/"
      ],
      "metadata": {
        "id": "WlvEUn5-opHB"
      },
      "execution_count": 16,
      "outputs": []
    },
    {
      "cell_type": "code",
      "source": [
        "!tar -czvf moleculas.tgz moleculas"
      ],
      "metadata": {
        "id": "1Uc4o0K1oyLl"
      },
      "execution_count": null,
      "outputs": []
    }
  ]
}